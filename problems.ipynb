{
 "cells": [
  {
   "cell_type": "markdown",
   "id": "7d83dea9",
   "metadata": {},
   "source": [
    "# Computer Infrastructure\n",
    "\n",
    "This document will contain solutions/workings for the Computer Infrastructure module, the tasks completed in this are from the [problems.md](https://github.com/ianmcloughlin/computer-infrastructure/blob/main/assessment/problems.md) document for this module.\n",
    "The assessment details can be found in [assessment.md](https://github.com/ianmcloughlin/computer-infrastructure/blob/main/assessment/assessment.md) and in the [guidance notebook](https://github.com/ianmcloughlin/computer-infrastructure/blob/main/assessment/guidance.ipynb)."
   ]
  },
  {
   "cell_type": "markdown",
   "id": "488118da",
   "metadata": {},
   "source": []
  }
 ],
 "metadata": {
  "language_info": {
   "name": "python"
  }
 },
 "nbformat": 4,
 "nbformat_minor": 5
}
