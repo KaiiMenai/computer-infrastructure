{
 "cells": [
  {
   "cell_type": "markdown",
   "id": "7d83dea9",
   "metadata": {},
   "source": [
    "# Computer Infrastructure\n",
    "\n",
    "This document will contain solutions/workings for the Computer Infrastructure module, the tasks completed in this are from the [problems.md](https://github.com/ianmcloughlin/computer-infrastructure/blob/main/assessment/problems.md) document for this module.\n",
    "The assessment details can be found in [assessment.md](https://github.com/ianmcloughlin/computer-infrastructure/blob/main/assessment/assessment.md) and in the [guidance notebook](https://github.com/ianmcloughlin/computer-infrastructure/blob/main/assessment/guidance.ipynb).\n",
    "\n",
    "Splitting this notebook into a number of different sections so that the problems can be completed consecutively."
   ]
  },
  {
   "cell_type": "markdown",
   "id": "16704197",
   "metadata": {},
   "source": [
    "## Problem 1: Getting the data"
   ]
  },
  {
   "cell_type": "markdown",
   "id": "95ed2e55",
   "metadata": {},
   "source": [
    "FROM THE TASK OUTLINE\n",
    "\n",
    "What this part of the project involves:\n",
    "\n",
    "Using the yfinance Python package, write a function called get_data() that downloads all hourly data for the previous five days for the five FAANG stocks:\n",
    "\n",
    "- Facebook (META)\n",
    "- Apple (AAPL)\n",
    "- Amazon (AMZN)\n",
    "- Netflix (NFLX)\n",
    "- Google (GOOG)\n",
    "\n",
    "See [https://www.youtube.com/watch?v=SxIwqdedomg](https://www.youtube.com/watch?v=SxIwqdedomg) for yfinance installation.\n",
    "\n",
    "The function should save the data into a folder called data in the root of your repository using a filename with the format YYYYMMDD-HHmmss.csv where YYYYMMDD is the four-digit year (e.g. 2025), followed by the two-digit month (e.g. 09 for September), followed by the two digit day, and HHmmss is hour, minutes, seconds. Create the data folder if you don't already have one.\n",
    "\n",
    "For the naming of the folder: [https://forum.enterprisedna.co/t/adding-a-datetime-to-the-name-of-the-file/45592/4](https://forum.enterprisedna.co/t/adding-a-datetime-to-the-name-of-the-file/45592/4) and [https://community.jmp.com/t5/Discussions/Format-Date-Time-yyyymmdd-hhmmss/td-p/694172](https://community.jmp.com/t5/Discussions/Format-Date-Time-yyyymmdd-hhmmss/td-p/694172)"
   ]
  },
  {
   "cell_type": "markdown",
   "id": "a38596b9",
   "metadata": {},
   "source": [
    "For this project the yfinance package will be used. From this, all hourly data for the previous 5 days for the 5 FAANG stocks (Facebook, Apple, Amazon, Netflix, Google) will be downloaded and saved into a folder, called data, in the root repository. File names will use the following format: YYYYMMDD-HHmmss.csv where YYYYMMDD is the four-digit year (e.g. 2025), followed by the two-digit month (e.g. 09 for September), followed by the two digit day, and HHmmss is hour, minutes, seconds."
   ]
  },
  {
   "cell_type": "code",
   "execution_count": null,
   "id": "f6058625",
   "metadata": {},
   "outputs": [],
   "source": [
    "# First need to make sure the correct modules are installed.add(\n",
    "\n",
    "# in terminal:\n",
    "pip install yfinance"
   ]
  },
  {
   "cell_type": "markdown",
   "id": "7017d142",
   "metadata": {},
   "source": [
    "Importing the data"
   ]
  },
  {
   "cell_type": "code",
   "execution_count": null,
   "id": "f13124dc",
   "metadata": {},
   "outputs": [
    {
     "ename": "ModuleNotFoundError",
     "evalue": "No module named 'yfinance'",
     "output_type": "error",
     "traceback": [
      "\u001b[31m---------------------------------------------------------------------------\u001b[39m",
      "\u001b[31mModuleNotFoundError\u001b[39m                       Traceback (most recent call last)",
      "\u001b[36mCell\u001b[39m\u001b[36m \u001b[39m\u001b[32mIn[1]\u001b[39m\u001b[32m, line 1\u001b[39m\n\u001b[32m----> \u001b[39m\u001b[32m1\u001b[39m \u001b[38;5;28;01mimport\u001b[39;00m\u001b[38;5;250m \u001b[39m\u001b[34;01myfinance\u001b[39;00m\n",
      "\u001b[31mModuleNotFoundError\u001b[39m: No module named 'yfinance'"
     ]
    }
   ],
   "source": [
    "import yfinance as yf\n"
   ]
  },
  {
   "cell_type": "markdown",
   "id": "60709ede",
   "metadata": {},
   "source": [
    "## Problem 2: Plotting Data"
   ]
  },
  {
   "cell_type": "markdown",
   "id": "33088786",
   "metadata": {},
   "source": [
    "FROM THE TASK OUTLINE\n",
    "\n",
    "What this problem involves:\n",
    "\n",
    "Write a function called plot_data() that opens the latest data file in the data folder and, on one plot, plots the Close prices for each of the five stocks. The plot should include axis labels, a legend, and the date as a title. The function should save the plot into a plots folder in the root of your repository using a filename in the format YYYYMMDD-HHmmss.png. Create the plots folder if you don't already have one.\n",
    "\n",
    "**I can use stuff from the PANDS project from term 1 for this to show saving images and exporting stuff to folders [HERE](https://github.com/KaiiMenai/pands-project), specifically in the [analysis.py](https://github.com/KaiiMenai/pands-project/blob/main/analysis.py) program.**"
   ]
  },
  {
   "cell_type": "markdown",
   "id": "1a617f56",
   "metadata": {},
   "source": [
    "## Problem 3: Script"
   ]
  },
  {
   "cell_type": "markdown",
   "id": "18efb4c6",
   "metadata": {},
   "source": [
    "FROM THE TASK OUTLINE\n",
    "\n",
    "What this problem involves:\n",
    "\n",
    "Create a Python script called faang.py in the root of your repository. Copy the above functions into it and it so that whenever someone at the terminal types ./faang.py, the script runs, downloading the data and creating the plot. Note that this will require a shebang line and the script to be marked executable. Explain the steps you took in your notebook.\n",
    "\n",
    "**AGAIN, refer to the PANDS project for the function for aid in the run and save parts of the script.**"
   ]
  },
  {
   "cell_type": "markdown",
   "id": "81ede69e",
   "metadata": {},
   "source": [
    "## Problem 4: Automation"
   ]
  },
  {
   "cell_type": "markdown",
   "id": "4ace1b11",
   "metadata": {},
   "source": [
    "FROM THE TASK OUTLINE\n",
    "\n",
    "What this problem involves:\n",
    "\n",
    "Create a GitHub Actions workflow to run your script every Saturday morning. The script should be called faang.yml in a .github/workflows/ folder in the root of your repository. In your notebook, explain each of the individual lines in your workflow.\n",
    "\n",
    "References to help with this task:\n",
    "\n",
    "- [GitHub Actions workflow](https://docs.github.com/en/actions)\n",
    "- [CI/CD Tutorial using GitHub Actions - Automated Testing & Automated Deployments](https://youtu.be/YLtlz88zrLg) on YT\n",
    "- [trigger GitHub Actions on every Saturday](https://stackoverflow.com/questions/75974691/how-can-i-trigger-github-actions-on-every-3rd-saturday-of-a-month) on StackOverflow\n",
    "- [Run on a schedule](https://jasonet.co/posts/scheduled-actions)\n"
   ]
  },
  {
   "cell_type": "markdown",
   "id": "6fe10a40",
   "metadata": {},
   "source": [
    "# END"
   ]
  }
 ],
 "metadata": {
  "kernelspec": {
   "display_name": "Python 3 (ipykernel)",
   "language": "python",
   "name": "python3"
  },
  "language_info": {
   "codemirror_mode": {
    "name": "ipython",
    "version": 3
   },
   "file_extension": ".py",
   "mimetype": "text/x-python",
   "name": "python",
   "nbconvert_exporter": "python",
   "pygments_lexer": "ipython3",
   "version": "3.12.1"
  }
 },
 "nbformat": 4,
 "nbformat_minor": 5
}
